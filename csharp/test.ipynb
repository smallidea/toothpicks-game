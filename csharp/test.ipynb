{
 "cells": [
  {
   "cell_type": "code",
   "execution_count": null,
   "metadata": {
    "vscode": {
     "languageId": "csharp"
    }
   },
   "outputs": [],
   "source": [
    "using System;\n",
    "\n",
    "namespace Toothpicks\n",
    "{\n",
    "    class Program\n",
    "    {\n",
    "        static void Main(string[] args)\n",
    "        {\n",
    "            // 定义牙签数量\n",
    "            int[] rows = {3, 5, 7};\n",
    "\n",
    "            // 定义玩家姓名\n",
    "            string[] players = {\"Player 1\", \"Player 2\"};\n",
    "\n",
    "            // 定义当前玩家\n",
    "            int currentPlayer = 0;\n",
    "\n",
    "            // 定义游戏结束标志\n",
    "            bool gameOver = false;\n",
    "\n",
    "            // 显示牙签数量\n",
    "            Console.WriteLine($\"Row 1: {rows[0]} toothpicks\");\n",
    "            Console.WriteLine($\"Row 2: {rows[1]} toothpicks\");\n",
    "            Console.WriteLine($\"Row 3: {rows[2]} toothpicks\");\n",
    "\n",
    "            // 开始游戏\n",
    "            while (!gameOver)\n",
    "            {\n",
    "                // 输出当前玩家\n",
    "                Console.WriteLine($\"{players[currentPlayer]}'s turn\");\n",
    "\n",
    "                // 输入行号\n",
    "                Console.Write(\"录入行号(1-3): \");\n",
    "                int row = Convert.ToInt32(Console.ReadLine());\n",
    "\n",
    "                // 输入牙签数量\n",
    "                Console.Write(\"Enter number of toothpicks to pick up: \");\n",
    "                int count = Convert.ToInt32(Console.ReadLine());\n",
    "\n",
    "                // 检查是否越界\n",
    "                if (row < 1 || row > 3)\n",
    "                {\n",
    "                    Console.WriteLine(\"Invalid row number\");\n",
    "                    continue;\n",
    "                }\n",
    "\n",
    "                if (count < 1 || count > rows[row - 1])\n",
    "                {\n",
    "                    Console.WriteLine(\"Invalid number of toothpicks\");\n",
    "                    continue;\n",
    "                }\n",
    "\n",
    "                // 更新牙签数量\n",
    "                rows[row - 1] -= count;\n",
    "\n",
    "                // 显示牙签数量\n",
    "                Console.WriteLine($\"Row 1: {rows[0]} toothpicks\");\n",
    "                Console.WriteLine($\"Row 2: {rows[1]} toothpicks\");\n",
    "                Console.WriteLine($\"Row 3: {rows[2]} toothpicks\");\n",
    "\n",
    "                // 检查是否结束游戏\n",
    "                if (rows[0] == 0 && rows[1] == 0 && rows[2] == 0)\n",
    "                {\n",
    "                    gameOver = true;\n",
    "                    Console.WriteLine($\"{players[currentPlayer]} wins!\");\n",
    "                }\n",
    "                else\n",
    "                {\n",
    "                    // 更改当前玩家\n",
    "                    currentPlayer = (currentPlayer + 1) % 2;\n",
    "                }\n",
    "            }\n",
    "        }\n",
    "    }\n",
    "}\n"
   ]
  }
 ],
 "metadata": {
  "kernelspec": {
   "display_name": "Python 3.9.7 64-bit",
   "language": "python",
   "name": "python3"
  },
  "language_info": {
   "name": "python",
   "version": "3.9.7"
  },
  "orig_nbformat": 4,
  "vscode": {
   "interpreter": {
    "hash": "aee8b7b246df8f9039afb4144a1f6fd8d2ca17a180786b69acc140d282b71a49"
   }
  }
 },
 "nbformat": 4,
 "nbformat_minor": 2
}
